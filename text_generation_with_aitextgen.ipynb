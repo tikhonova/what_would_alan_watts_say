{
  "cells": [
    {
      "cell_type": "markdown",
      "metadata": {
        "id": "view-in-github",
        "colab_type": "text"
      },
      "source": [
        "<a href=\"https://colab.research.google.com/github/tikhonova/what_would_alan_watts_say/blob/master/text_generation_with_aitextgen.ipynb\" target=\"_parent\"><img src=\"https://colab.research.google.com/assets/colab-badge.svg\" alt=\"Open In Colab\"/></a>"
      ]
    },
    {
      "cell_type": "markdown",
      "metadata": {
        "id": "3g7qRXD_Rbp2"
      },
      "source": [
        "**What would Alan Watts say if he were here with us today?**\n",
        "\n",
        "A quick text generation setup that takes under 10 minutes.\n",
        "\n",
        "[Documentation](https://docs.aitextgen.io/)\n",
        "\n",
        "[Original aitextgen Colab](https://colab.research.google.com/drive/15qBZx5y9rdaQSyWpsreMDnTiZ5IlN0zD?usp=sharing#scrollTo=LdpZQXknFNY3)\n",
        "\n",
        "[Example guide](https://www.youtube.com/watch?v=uE0_XKh2d6g)"
      ]
    },
    {
      "cell_type": "code",
      "execution_count": 2,
      "metadata": {
        "colab": {
          "base_uri": "https://localhost:8080/"
        },
        "id": "7BIKnhQM4Q3J",
        "outputId": "cf9e29d4-f9ce-4749-986a-e3b218c96661"
      },
      "outputs": [
        {
          "output_type": "stream",
          "name": "stdout",
          "text": [
            "Thu Mar 30 11:40:14 2023       \n",
            "+-----------------------------------------------------------------------------+\n",
            "| NVIDIA-SMI 525.85.12    Driver Version: 525.85.12    CUDA Version: 12.0     |\n",
            "|-------------------------------+----------------------+----------------------+\n",
            "| GPU  Name        Persistence-M| Bus-Id        Disp.A | Volatile Uncorr. ECC |\n",
            "| Fan  Temp  Perf  Pwr:Usage/Cap|         Memory-Usage | GPU-Util  Compute M. |\n",
            "|                               |                      |               MIG M. |\n",
            "|===============================+======================+======================|\n",
            "|   0  Tesla T4            Off  | 00000000:00:04.0 Off |                    0 |\n",
            "| N/A   41C    P8     9W /  70W |      0MiB / 15360MiB |      0%      Default |\n",
            "|                               |                      |                  N/A |\n",
            "+-------------------------------+----------------------+----------------------+\n",
            "                                                                               \n",
            "+-----------------------------------------------------------------------------+\n",
            "| Processes:                                                                  |\n",
            "|  GPU   GI   CI        PID   Type   Process name                  GPU Memory |\n",
            "|        ID   ID                                                   Usage      |\n",
            "|=============================================================================|\n",
            "|  No running processes found                                                 |\n",
            "+-----------------------------------------------------------------------------+\n"
          ]
        }
      ],
      "source": [
        "!nvidia-smi"
      ]
    },
    {
      "cell_type": "code",
      "execution_count": null,
      "metadata": {
        "id": "T9mUXus-7V1i"
      },
      "outputs": [],
      "source": [
        "!pip install wandb\n",
        "import wandb\n",
        "wandb.init()"
      ]
    },
    {
      "cell_type": "code",
      "execution_count": null,
      "metadata": {
        "id": "xW-lETfi8WNr"
      },
      "outputs": [],
      "source": [
        "!ls"
      ]
    },
    {
      "cell_type": "code",
      "execution_count": null,
      "metadata": {
        "id": "5ZVRiBSm9NEr"
      },
      "outputs": [],
      "source": [
        "#!pip install aitextgen -q"
      ]
    },
    {
      "cell_type": "code",
      "execution_count": null,
      "metadata": {
        "id": "OMM3fP-S9g6R"
      },
      "outputs": [],
      "source": [
        "model=\"EleutherAI/gpt-neo-125M\""
      ]
    },
    {
      "cell_type": "code",
      "execution_count": null,
      "metadata": {
        "colab": {
          "base_uri": "https://localhost:8080/"
        },
        "id": "Q4BHWl_6AdY0",
        "outputId": "08be7670-69df-41a7-c21c-6aed9d3c2f29"
      },
      "outputs": [
        {
          "name": "stdout",
          "output_type": "stream",
          "text": [
            "/content/dataset\n"
          ]
        }
      ],
      "source": [
        "cd dataset"
      ]
    },
    {
      "cell_type": "code",
      "execution_count": null,
      "metadata": {
        "id": "yNr2aclC9nY6"
      },
      "outputs": [],
      "source": [
        "import glob\n",
        "\n",
        "read_files = glob.glob(\"*.txt\")\n",
        "\n",
        "with open(\"result.txt\", \"wb\") as outfile:\n",
        "    for f in read_files:\n",
        "        with open(f, \"rb\") as infile:\n",
        "            outfile.write(infile.read())"
      ]
    },
    {
      "cell_type": "code",
      "execution_count": 1,
      "metadata": {
        "colab": {
          "base_uri": "https://localhost:8080/"
        },
        "id": "aL8WeRz1BDvT",
        "outputId": "28e8c5fe-5660-4ce9-fc60-9698be66cb1a"
      },
      "outputs": [
        {
          "output_type": "stream",
          "name": "stdout",
          "text": [
            "\u001b[2K     \u001b[90m━━━━━━━━━━━━━━━━━━━━━━━━━━━━━━━━━━━━━━━\u001b[0m \u001b[32m831.4/831.4 MB\u001b[0m \u001b[31m1.9 MB/s\u001b[0m eta \u001b[36m0:00:00\u001b[0m\n",
            "\u001b[2K     \u001b[90m━━━━━━━━━━━━━━━━━━━━━━━━━━━━━━━━━━━━━━\u001b[0m \u001b[32m708.1/708.1 KB\u001b[0m \u001b[31m58.6 MB/s\u001b[0m eta \u001b[36m0:00:00\u001b[0m\n",
            "\u001b[2K     \u001b[90m━━━━━━━━━━━━━━━━━━━━━━━━━━━━━━━━━━━━━━\u001b[0m \u001b[32m572.2/572.2 KB\u001b[0m \u001b[31m46.9 MB/s\u001b[0m eta \u001b[36m0:00:00\u001b[0m\n",
            "\u001b[?25h  Preparing metadata (setup.py) ... \u001b[?25l\u001b[?25hdone\n",
            "\u001b[2K     \u001b[90m━━━━━━━━━━━━━━━━━━━━━━━━━━━━━━━━━━━━━━\u001b[0m \u001b[32m519.2/519.2 KB\u001b[0m \u001b[31m51.4 MB/s\u001b[0m eta \u001b[36m0:00:00\u001b[0m\n",
            "\u001b[2K     \u001b[90m━━━━━━━━━━━━━━━━━━━━━━━━━━━━━━━━━━━━━━━━\u001b[0m \u001b[32m6.8/6.8 MB\u001b[0m \u001b[31m93.6 MB/s\u001b[0m eta \u001b[36m0:00:00\u001b[0m\n",
            "\u001b[2K     \u001b[90m━━━━━━━━━━━━━━━━━━━━━━━━━━━━━━━━━━━━━━━━\u001b[0m \u001b[32m88.3/88.3 KB\u001b[0m \u001b[31m12.4 MB/s\u001b[0m eta \u001b[36m0:00:00\u001b[0m\n",
            "\u001b[?25h  Preparing metadata (setup.py) ... \u001b[?25l\u001b[?25hdone\n",
            "\u001b[2K     \u001b[90m━━━━━━━━━━━━━━━━━━━━━━━━━━━━━━━━━━━━━━━━\u001b[0m \u001b[32m1.0/1.0 MB\u001b[0m \u001b[31m69.6 MB/s\u001b[0m eta \u001b[36m0:00:00\u001b[0m\n",
            "\u001b[2K     \u001b[90m━━━━━━━━━━━━━━━━━━━━━━━━━━━━━━━━━━━━━━━━\u001b[0m \u001b[32m7.6/7.6 MB\u001b[0m \u001b[31m71.4 MB/s\u001b[0m eta \u001b[36m0:00:00\u001b[0m\n",
            "\u001b[2K     \u001b[90m━━━━━━━━━━━━━━━━━━━━━━━━━━━━━━━━━━━━━━\u001b[0m \u001b[32m199.8/199.8 KB\u001b[0m \u001b[31m24.3 MB/s\u001b[0m eta \u001b[36m0:00:00\u001b[0m\n",
            "\u001b[2K     \u001b[90m━━━━━━━━━━━━━━━━━━━━━━━━━━━━━━━━━━━━━━\u001b[0m \u001b[32m114.2/114.2 KB\u001b[0m \u001b[31m12.6 MB/s\u001b[0m eta \u001b[36m0:00:00\u001b[0m\n",
            "\u001b[2K     \u001b[90m━━━━━━━━━━━━━━━━━━━━━━━━━━━━━━━━━━━━━━\u001b[0m \u001b[32m264.6/264.6 KB\u001b[0m \u001b[31m30.7 MB/s\u001b[0m eta \u001b[36m0:00:00\u001b[0m\n",
            "\u001b[2K     \u001b[90m━━━━━━━━━━━━━━━━━━━━━━━━━━━━━━━━━━━━━━\u001b[0m \u001b[32m158.8/158.8 KB\u001b[0m \u001b[31m22.1 MB/s\u001b[0m eta \u001b[36m0:00:00\u001b[0m\n",
            "\u001b[?25h  Building wheel for aitextgen (setup.py) ... \u001b[?25l\u001b[?25hdone\n",
            "  Building wheel for fire (setup.py) ... \u001b[?25l\u001b[?25hdone\n"
          ]
        }
      ],
      "source": [
        "!pip uninstall -qqy torch torchvision torchtext torchaudio fastai\n",
        "!pip install -qq torch==1.9.0 pytorch-lightning==1.7.7 aitextgen==0.6.0 "
      ]
    },
    {
      "cell_type": "code",
      "execution_count": null,
      "metadata": {
        "id": "e_M0-GOqDaXj"
      },
      "outputs": [],
      "source": [
        "import pytorch_lightning as pl\n",
        "print(pl.__version__)"
      ]
    },
    {
      "cell_type": "code",
      "execution_count": null,
      "metadata": {
        "id": "eq5ixCdPDq2r"
      },
      "outputs": [],
      "source": [
        "!pip install cloud-tpu-client==0.10 https://storage.googleapis.com/tpu-pytorch/wheels/torch_xla-1.9-cp37-cp37m-linux_x86_64.whl\n",
        "!pip install torch==1.9.0+cu111 torchvision==0.10.0+cu111 torchtext==0.10.0 -f https://download.pytorch.org/whl/cu111/torch_stable.html"
      ]
    },
    {
      "cell_type": "code",
      "execution_count": null,
      "metadata": {
        "id": "Max84fTCDv5z"
      },
      "outputs": [],
      "source": [
        "# !pip install torch torchvision torchaudio pytorch-lightning\n",
        "# !pip install -r requirements.txt"
      ]
    },
    {
      "cell_type": "code",
      "execution_count": 1,
      "metadata": {
        "id": "Xza7X34RBbOs"
      },
      "outputs": [],
      "source": [
        "from aitextgen import aitextgen"
      ]
    },
    {
      "cell_type": "code",
      "execution_count": null,
      "metadata": {
        "id": "dm1nQKL1AzNz"
      },
      "outputs": [],
      "source": [
        "from aitextgen.TokenDataset import TokenDataset"
      ]
    },
    {
      "cell_type": "code",
      "execution_count": null,
      "metadata": {
        "colab": {
          "base_uri": "https://localhost:8080/"
        },
        "id": "grVKlYd7Wn2i",
        "outputId": "81ca459b-1b07-42bc-8253-dcec1b7e1021"
      },
      "outputs": [
        {
          "name": "stdout",
          "output_type": "stream",
          "text": [
            "/content/drive/MyDrive\n"
          ]
        }
      ],
      "source": [
        "cd .."
      ]
    },
    {
      "cell_type": "code",
      "execution_count": null,
      "metadata": {
        "id": "HIkfoEVOA3Ib"
      },
      "outputs": [],
      "source": [
        "data = TokenDataset('./result.txt', line_by_line=False)"
      ]
    },
    {
      "cell_type": "code",
      "execution_count": null,
      "metadata": {
        "id": "ZzLAZH5hEV-r"
      },
      "outputs": [],
      "source": [
        "ai = aitextgen(model = model,  to_gpu=True)"
      ]
    },
    {
      "cell_type": "code",
      "execution_count": null,
      "metadata": {
        "id": "ztIVQJneEjBz"
      },
      "outputs": [],
      "source": [
        "ai.train('result.txt',\n",
        "         line_by_line=False,\n",
        "         from_cache=False,\n",
        "         num_steps=100000,\n",
        "         generate_every=5000,\n",
        "         save_every=5000,\n",
        "         save_gdrive=True,\n",
        "         learning_rate=1e-3,\n",
        "         fp16=False,\n",
        "         batch_size=1, \n",
        "         )"
      ]
    },
    {
      "cell_type": "code",
      "execution_count": null,
      "metadata": {
        "colab": {
          "base_uri": "https://localhost:8080/"
        },
        "id": "nP6nUk_K6NR1",
        "outputId": "905ba5dc-33d7-4949-f8fd-af4918f66a75"
      },
      "outputs": [
        {
          "name": "stdout",
          "output_type": "stream",
          "text": [
            "/content/drive/MyDrive\n"
          ]
        }
      ],
      "source": [
        "cd .."
      ]
    },
    {
      "cell_type": "code",
      "execution_count": 2,
      "metadata": {
        "colab": {
          "base_uri": "https://localhost:8080/"
        },
        "id": "5AKHCG5HJoQj",
        "outputId": "46b15e3e-e3ba-4463-ac65-51875a9762a5"
      },
      "outputs": [
        {
          "output_type": "stream",
          "name": "stdout",
          "text": [
            "/content/drive/MyDrive/ATG_20230318_013501\n"
          ]
        }
      ],
      "source": [
        "cd drive/MyDrive/ATG_20230318_013501"
      ]
    },
    {
      "cell_type": "code",
      "execution_count": 3,
      "metadata": {
        "colab": {
          "base_uri": "https://localhost:8080/"
        },
        "id": "_6JCwxtgJkn7",
        "outputId": "d2e801a1-8bde-4261-9ed1-23079a3b1b96"
      },
      "outputs": [
        {
          "output_type": "stream",
          "name": "stderr",
          "text": [
            "INFO:aitextgen:Loading model from provided weights and config in /..\n",
            "Generate config GenerationConfig {\n",
            "  \"_from_model_config\": true,\n",
            "  \"bos_token_id\": 50256,\n",
            "  \"eos_token_id\": 50256,\n",
            "  \"transformers_version\": \"4.27.4\"\n",
            "}\n",
            "\n",
            "INFO:aitextgen:GPTNeo loaded with 125M parameters.\n",
            "INFO:aitextgen:Using the default GPT-2 Tokenizer.\n"
          ]
        }
      ],
      "source": [
        "prompt_ai = aitextgen(model_folder = '.', to_gpu=True)"
      ]
    },
    {
      "cell_type": "markdown",
      "metadata": {
        "id": "Y6Tg7itXh8Dn"
      },
      "source": [
        "---\n",
        "via [original training notebook](https://colab.research.google.com/drive/15qBZx5y9rdaQSyWpsreMDnTiZ5IlN0zD?usp=sharing#scrollTo=oF4-PqF0Fl7R)\n",
        "\n",
        "---\n",
        "If you're creating an API based on your model and need to pass the generated text elsewhere, you can do `text = ai.generate_one()`\n",
        "\n",
        "You can also pass in a `prompt` to the generate function to force the text to start with a given character sequence and generate text from there (good if you add an indicator when the text starts).\n",
        "\n",
        "You can also generate multiple texts at a time by specifing `n`. You can pass a `batch_size` to generate multiple samples in parallel, giving a massive speedup (in Colaboratory, set a maximum of 50 for batch_size to avoid going OOM).\n",
        "\n",
        "Other optional-but-helpful parameters for ai.generate() and friends:\n",
        "\n",
        "`min length`: The minimum length of the generated text: if the text is shorter than this value after cleanup, aitextgen will generate another one.\n",
        "\n",
        "`max_length`: Number of tokens to generate (default 256, you can generate up to 1024 tokens with GPT-2 and 2048 with GPT Neo)\n",
        "\n",
        "`temperature`: The higher the temperature, the crazier the text (default 0.7, recommended to keep between 0.7 and 1.0)\n",
        "\n",
        "`top_k`: Limits the generated guesses to the top k guesses (default 0 which disables the behavior; if the generated output is super crazy, you may want to set top_k=40)\n",
        "\n",
        "`top_p`: Nucleus sampling: limits the generated guesses to a cumulative probability. (gets good results on a dataset with top_p=0.9)\n",
        "\n",
        "More on top_k and top_p here: https://huggingface.co/blog/how-to-generate"
      ]
    },
    {
      "cell_type": "code",
      "execution_count": 15,
      "metadata": {
        "colab": {
          "base_uri": "https://localhost:8080/"
        },
        "id": "7NfOzp2gJsUs",
        "outputId": "c6ec7d4e-4212-4fb1-8358-412aaba7532e"
      },
      "outputs": [
        {
          "output_type": "stream",
          "name": "stderr",
          "text": [
            "Generate config GenerationConfig {\n",
            "  \"_from_model_config\": true,\n",
            "  \"bos_token_id\": 50256,\n",
            "  \"eos_token_id\": 50256,\n",
            "  \"transformers_version\": \"4.27.4\"\n",
            "}\n",
            "\n"
          ]
        },
        {
          "output_type": "stream",
          "name": "stdout",
          "text": [
            "\u001b[1mwhere was i before i was born?  from the same old feeling, we are really  was nothing more than an temporary stranger--a visitor who hardly belongs--for the thin ray of consciousness does not shine upon its own source.\u001b[0m in looking out upon the world, at the fascinating itself of this world of lovely- complicated patterns, why should that trouble us? for that is exactly what we do now! flesh or plastic, intelligence or mechanism, nerve or wire, biology or physics--it all seems to come down to this fabulous electronic dance, which, with the macroscopic level, presents itself to itself as the whole gamut of forms and  substances.  but the underlying problem of cybernetics, should makes it an endless success/failure, is to control the process of control itself. power is not necessarily wisdom. i may have virtual omnipotence in the government of my body and my physical environment, but how am i to avoid folly and error in its use?\n",
            "==========\n",
            "\u001b[1mwhere was i before i was born?  from the same old feeling, we are really  was nothing more than an temporary stranger--a visitor who hardly belongs--for the thin ray of consciousness does not shine upon its own source.\u001b[0m in looking out upon the world, a structure of realizing or feeling it is a own their own existence, and it may be that its very strength and skill will all the more rapidly dissolve its dreams. but if this is not to be so, technical power must be in the hands of a new kind of man. think of it as a personal being, somehow  outside  or other than the structure on theorganized but very quickly system of the anopheles mosquito. if all this ends with the human race leaving no more trace of itself in its in patterns, the very complex patterns that we see, selecting them from an immeasurable e spectrum of vibrations as the vibrations of light, from be particles of individual existence and relation to the external world. such\n",
            "==========\n",
            "\u001b[1mwhere was i before i was born?  from the same old feeling, we are really  was nothing more than an temporary stranger--a visitor who hardly belongs--for the thin ray of consciousness does not shine upon its own source.\u001b[0m in looking out upon the world, it is not disorganized at all, because this is  i  and everything, and being is a kind of violet. The same way, here in theary state of california, all the houses are built with picture windows looking at other picture, i repeat that the outline of the figure is also the inline of another. and the christianity of nature is that all man various species arise mutually because they interdependent, as thistotal system, are those under threat to newtonian mechanics, which says 'birth and death is attitudes that moves the sun and other stars.  forever and ever. They are playing possum. This fact, space is no longer, any other organism can be a black,\n",
            "None\n"
          ]
        }
      ],
      "source": [
        "print(prompt_ai.generate(prompt = \"where was i before i was born?  from the same old feeling, we are really  was nothing more than an temporary stranger--a visitor who hardly belongs--for the thin ray of consciousness does not shine upon its own source.\"\n",
        "                        # ,num_beams = 5\n",
        "                        # ,repetition_penalty = 1.1\n",
        "                         ,temperature = 0.8\n",
        "                         ,n = 3\n",
        "                         ,top_k = 50\n",
        "                         ,top_p = 0.95\n",
        "                         ,no_repeat_ngram_size = 2\n",
        "                         ,max_length = 200\n",
        "                         ))\n",
        "\n",
        "# The world is called in sanskrita  legs on a snake.  it is irrelevant. you do not need not to seek,because you have lacked for lack of permanant self to get born. anything about everything is hang-ups,\n",
        "# The modern world feels transformed into a marvelous degree. The modern world feels transformed into a single bioelectronic body.\n",
        "# What is happening now is a process, a complete realization of life and experience.\n",
        "# What is happening now is a game. That is, the whole world is playing.\n",
        "# there is not point that the ego splits itself in two and pretends that it is its own victim.  see, i am only a bundle of conditioned reflexes, so you must not get angry with me for acting just as i have to stop talking to hear.\n",
        "# so you must not get angry with me for acting just as i have to stop talking to hear it.\n",
        "# again i am moving in the same way as i can get the view of the world, or whatever you want to call it--that this now moment in which i talking and you are listening, is eternity. that although we have somehow conned ourselves into the notion that this moment is ordinary, and that we may not feel very well, we are sort of vaguely frustrated and worried and so on, but that our most of us do not know about it.\n",
        "# in many years, it is going to be absolutely incomprehensible for most people that they are not one with the universe. it will be so simple. and then maybe if that happens, we shall be in a position to handle our technology with more sense. with love instead of hate for our environment.\n",
        "#  thou  is the self which is you; behind the whole show there are no differentiations of i and thou, subject and object, good and evil, light and darkness, life and death,  but within the sphere of the saguna brahman all these different principles are on the wrong track. there is a zen poem which says, 'you cannot attain it by thinking, you cannot grasp it as not thinking.'\n",
        "# , after a while you make sense of it. And so what i am trying to explain is that the world is, the pattern. it is a dance of energy. what are we really looking at it? ordinarily, one answers the question of what is it?  by putting the designated thing or event into a class--animal, vegetable, or mineral\n",
        "# but what class will fit every thing? what can possibly be said about everything? to define is to limit, to set boundaries, in compare and to contrast. With little words, it would be like to say that everything is energy.\n",
        "# if, then, we are going to insist that energy can be known and described only by contrast with non-energy, this is virtually the same as saying that at the end, that is just another thing that we want to know in the philosophy of opposites, such as light and darkness, sound and silence, solid and space, on and off, inside and outside, appearing and disappearing, cause and effect, are poles or aspects of the world. \n",
        "# but we have no word for that thing, save such vague concepts as existence, being, god, or the ultimate ground of being. for the most part these remain nebulous ideas without becoming vivid feelings or experiences. \n",
        "# this, underlies, vedanta, and is therefore playing a game with self-contradictory rules. just because we do not exist apart from the community, the society is able to convince us that we do as society does--that each one of us is an independent source of action with a mind of its own. the more successfully the few questions that this community implants this feeling, this the mind and this sort of sit for a society based on mutual trust is a totalitarian police-state, a community in which spontaneity is virtually forbidden. \n",
        "# The modern society therefore might be understood as the game of order-versus-chance. in other words, it would take millions of years to make-believe, because it is too fundamental to give it a title. i am living to talk about what there is. now, the first thing, though, that we have to do is to get our perspectives with some background about the basic ideas that, as westerners living today in the united states, influence our everyday common sense, our fundamental notions about this world. \n",
        "# life is a metaphysician twenty-one just as every philosopher has appetites and emotions--and by this I mean that those things, animals, insects, and plants do not exist in or by themselves. this is not to say only that things exist if it were a human being. \n",
        "#  where was i before i was born?  from the same old feeling, we are really  was nothing more than an temporary stranger--a visitor who hardly belongs--for the thin ray of consciousness does not shine upon its own source.\n",
        "\n"
      ]
    },
    {
      "cell_type": "code",
      "execution_count": 17,
      "metadata": {
        "colab": {
          "base_uri": "https://localhost:8080/"
        },
        "id": "axGcpqPYKc0E",
        "outputId": "5aee5fbb-5b62-46cb-b2dc-a8bd65a10e8e"
      },
      "outputs": [
        {
          "output_type": "stream",
          "name": "stdout",
          "text": [
            "/content/drive/MyDrive\n"
          ]
        }
      ],
      "source": [
        "cd .."
      ]
    },
    {
      "cell_type": "code",
      "execution_count": 18,
      "metadata": {
        "colab": {
          "base_uri": "https://localhost:8080/"
        },
        "id": "Yk-dnNP3KVM9",
        "outputId": "b47dedff-0f1e-4398-c304-94ba962f3396"
      },
      "outputs": [
        {
          "output_type": "stream",
          "name": "stderr",
          "text": [
            "INFO:aitextgen:Loading model from provided weights and config in /ATG_20230318_013501.\n",
            "Generate config GenerationConfig {\n",
            "  \"_from_model_config\": true,\n",
            "  \"bos_token_id\": 50256,\n",
            "  \"eos_token_id\": 50256,\n",
            "  \"transformers_version\": \"4.27.4\"\n",
            "}\n",
            "\n",
            "INFO:aitextgen:GPTNeo loaded with 125M parameters.\n",
            "INFO:aitextgen:Using the default GPT-2 Tokenizer.\n"
          ]
        }
      ],
      "source": [
        "ai = aitextgen(model_folder=\"ATG_20230318_013501\")"
      ]
    },
    {
      "cell_type": "code",
      "execution_count": null,
      "metadata": {
        "colab": {
          "base_uri": "https://localhost:8080/",
          "height": 1000,
          "referenced_widgets": [
            "bc6c22a1f10046809358f230a5ae1239",
            "0d7f67f1fbf1409dbdf7ee41fd8444c3",
            "f60580bacde1484fba6dcf9ccd8982a1",
            "e05eed5388e84a1da5c965888c875ef7",
            "27fa664acf2647dea5c0c3bff0914195",
            "b1174dc67d844ef286ce09125a7e6b20",
            "4992c220838b48c590acc2c2a59a5e1d",
            "43cf351976ec4467a692ab03a65433d8",
            "57d623576b1a423aabeeddc444dff5e6",
            "f49f16b1fa25448e92bb0ba2eb6c5724",
            "d643e6e88726435dad6c87978416bbda",
            "6b4a6acf38d0472293a508a002267443",
            "66e6eea00d65418b8d760b152e1ab588",
            "085acedea4b34f1392d74c1cfc5d9720",
            "3e5350d0c462470595315098a26155fb",
            "ebc5303a452f4ff685bd0664f0dd4628",
            "dc7e4c0f46e74315a3b8440d27ebb5d0",
            "7548e7103a934ed4a462ded1d24a29be",
            "fd6ded5686dd4537b7e2e15ce0e508f1",
            "6d03bbf997c8497196737ebefdf7d56c",
            "e1b4f8093b044d4683c28b6b961e7cfd",
            "b1608a4fe4094efd8f9a149e8578d291"
          ]
        },
        "id": "qIfPiGWhKcZD",
        "outputId": "bcb43829-7dae-449b-afc0-fe2974d99d25"
      },
      "outputs": [
        {
          "output_type": "stream",
          "name": "stderr",
          "text": [
            "INFO:aitextgen:Loading text from result.txt with generation length of 2048.\n"
          ]
        },
        {
          "output_type": "display_data",
          "data": {
            "text/plain": [
              "  0%|          | 0/9 [00:00<?, ?it/s]"
            ],
            "application/vnd.jupyter.widget-view+json": {
              "version_major": 2,
              "version_minor": 0,
              "model_id": "bc6c22a1f10046809358f230a5ae1239"
            }
          },
          "metadata": {}
        },
        {
          "output_type": "stream",
          "name": "stderr",
          "text": [
            "INFO:aitextgen.TokenDataset:Encoding 9 sets of tokens from result.txt.\n",
            "WARNING:aitextgen:pytorch_model.bin already exists in /trained_model and will be overwritten!\n",
            "/usr/local/lib/python3.9/dist-packages/pytorch_lightning/trainer/connectors/accelerator_connector.py:447: LightningDeprecationWarning: Setting `Trainer(gpus=-1)` is deprecated in v1.7 and will be removed in v2.0. Please use `Trainer(accelerator='gpu', devices=-1)` instead.\n",
            "  rank_zero_deprecation(\n",
            "INFO:pytorch_lightning.utilities.rank_zero:GPU available: True (cuda), used: True\n",
            "INFO:pytorch_lightning.utilities.rank_zero:TPU available: False, using: 0 TPU cores\n",
            "INFO:pytorch_lightning.utilities.rank_zero:IPU available: False, using: 0 IPUs\n",
            "INFO:pytorch_lightning.utilities.rank_zero:HPU available: False, using: 0 HPUs\n",
            "/usr/local/lib/python3.9/dist-packages/pytorch_lightning/trainer/configuration_validator.py:258: LightningDeprecationWarning: The `Callback.on_batch_end` hook was deprecated in v1.6 and will be removed in v1.8. Please use `Callback.on_train_batch_end` instead.\n",
            "  rank_zero_deprecation(\n",
            "INFO:pytorch_lightning.accelerators.cuda:LOCAL_RANK: 0 - CUDA_VISIBLE_DEVICES: [0]\n"
          ]
        },
        {
          "output_type": "display_data",
          "data": {
            "text/plain": [
              "  0%|          | 0/50000 [00:00<?, ?it/s]"
            ],
            "application/vnd.jupyter.widget-view+json": {
              "version_major": 2,
              "version_minor": 0,
              "model_id": "6b4a6acf38d0472293a508a002267443"
            }
          },
          "metadata": {}
        },
        {
          "output_type": "stream",
          "name": "stdout",
          "text": [
            "\u001b[1m1,000 steps reached: saving model to /trained_model\u001b[0m\n"
          ]
        },
        {
          "output_type": "stream",
          "name": "stderr",
          "text": [
            "Configuration saved in trained_model/generation_config.json\n",
            "Configuration saved in trained_model/generation_config.json\n"
          ]
        },
        {
          "output_type": "stream",
          "name": "stdout",
          "text": [
            "\u001b[1m2,000 steps reached: saving model to /trained_model\u001b[0m\n"
          ]
        },
        {
          "output_type": "stream",
          "name": "stderr",
          "text": [
            "Configuration saved in trained_model/generation_config.json\n"
          ]
        },
        {
          "output_type": "stream",
          "name": "stdout",
          "text": [
            "\u001b[1m3,000 steps reached: saving model to /trained_model\u001b[0m\n"
          ]
        },
        {
          "output_type": "stream",
          "name": "stderr",
          "text": [
            "Configuration saved in trained_model/generation_config.json\n"
          ]
        },
        {
          "output_type": "stream",
          "name": "stdout",
          "text": [
            "\u001b[1m4,000 steps reached: saving model to /trained_model\u001b[0m\n"
          ]
        },
        {
          "output_type": "stream",
          "name": "stderr",
          "text": [
            "Configuration saved in trained_model/generation_config.json\n"
          ]
        },
        {
          "output_type": "stream",
          "name": "stdout",
          "text": [
            "\u001b[1m5,000 steps reached: saving model to /trained_model\u001b[0m\n"
          ]
        },
        {
          "output_type": "stream",
          "name": "stderr",
          "text": [
            "Generate config GenerationConfig {\n",
            "  \"_from_model_config\": true,\n",
            "  \"bos_token_id\": 50256,\n",
            "  \"eos_token_id\": 50256,\n",
            "  \"transformers_version\": \"4.27.4\"\n",
            "}\n",
            "\n",
            "A decoder-only architecture is being used, but right-padding was detected! For correct generation results, please set `padding_side='left'` when initializing the tokenizer.\n"
          ]
        },
        {
          "output_type": "stream",
          "name": "stdout",
          "text": [
            "\u001b[1m5,000 steps reached: generating sample texts.\u001b[0m\n",
            "==========\n",
            " paradoxes are a masterressed in that way. they are this gorgeous little professional men, but patterns and scenes so intense and autonomous that they seem to be physically present. the latter have, however, proved of less interest to me than one is transformed impression of the natural world and the heightened speed of associative thought, and it is thus with these that the following account is chiefly concerned.  normal dosage for mescaline is three hundred milligrams, for lsd-twenty-five one hundred micrograms, and for psilocybin twenty milligrams. the general reader interested in a more detailed account of consciousness-changing drugs and the present state of research concerning them should consult robert s. de ropp is drugs and the mind (grove press, new york, nineteen sixty).   for purposes of this summary i am including marijuana and hashish as psychedelics, though they do not have the potency of lsd. the joyous cosmology alan w. watts the joyous cosmology tzero begin with, this world has a different kind of time. it is the time of biological rhythm, not of the clock and all that goes with the clock. there is no hurry. our sense of time is notoriously subjective\n",
            "==========\n"
          ]
        },
        {
          "output_type": "stream",
          "name": "stderr",
          "text": [
            "Configuration saved in trained_model/generation_config.json\n"
          ]
        },
        {
          "output_type": "stream",
          "name": "stdout",
          "text": [
            "\u001b[1m6,000 steps reached: saving model to /trained_model\u001b[0m\n"
          ]
        },
        {
          "output_type": "stream",
          "name": "stderr",
          "text": [
            "Configuration saved in trained_model/generation_config.json\n"
          ]
        },
        {
          "output_type": "stream",
          "name": "stdout",
          "text": [
            "\u001b[1m7,000 steps reached: saving model to /trained_model\u001b[0m\n"
          ]
        },
        {
          "output_type": "stream",
          "name": "stderr",
          "text": [
            "Configuration saved in trained_model/generation_config.json\n"
          ]
        },
        {
          "output_type": "stream",
          "name": "stdout",
          "text": [
            "\u001b[1m8,000 steps reached: saving model to /trained_model\u001b[0m\n"
          ]
        },
        {
          "output_type": "stream",
          "name": "stderr",
          "text": [
            "Configuration saved in trained_model/generation_config.json\n"
          ]
        },
        {
          "output_type": "stream",
          "name": "stdout",
          "text": [
            "\u001b[1m9,000 steps reached: saving model to /trained_model\u001b[0m\n"
          ]
        },
        {
          "output_type": "stream",
          "name": "stderr",
          "text": [
            "Configuration saved in trained_model/generation_config.json\n"
          ]
        },
        {
          "output_type": "stream",
          "name": "stdout",
          "text": [
            "\u001b[1m10,000 steps reached: saving model to /trained_model\u001b[0m\n"
          ]
        },
        {
          "output_type": "stream",
          "name": "stderr",
          "text": [
            "Generate config GenerationConfig {\n",
            "  \"_from_model_config\": true,\n",
            "  \"bos_token_id\": 50256,\n",
            "  \"eos_token_id\": 50256,\n",
            "  \"transformers_version\": \"4.27.4\"\n",
            "}\n",
            "\n",
            "A decoder-only architecture is being used, but right-padding was detected! For correct generation results, please set `padding_side='left'` when initializing the tokenizer.\n"
          ]
        },
        {
          "output_type": "stream",
          "name": "stdout",
          "text": [
            "\u001b[1m10,000 steps reached: generating sample texts.\u001b[0m\n",
            "==========\n",
            " had joined him in short- repeating my own name which is right to all that he is. it is kind of like that of the hindus, and again, he is all these people it so strange that it is the best good thing to do, and therefore you act with it - all those bodhisattvas are the who try to realize zen by doing nothing about it are still trying desperately to find it, and they are on the wrong track. there is another zen poem which says, 'you cannot attain it by thinking, you cannot grasp it by not thinking.' or you could say, you cannot catch hold of the meaning of zen by doing something about it, but equally, you cannot see into its meaning by doing nothing about it, because both are, in their different ways, attempts to move from where you are now, here, to somewhere else, and the point is that we come to an understanding of this, what i call suchness, only through being completely here. and no means are necessary to be completely here. neither active means on the one hand, nor passive means on the other. because in both ways, you are trying to move away from the immediate now. but you see, it is difficult to understand language like\n",
            "==========\n"
          ]
        },
        {
          "output_type": "stream",
          "name": "stderr",
          "text": [
            "Configuration saved in trained_model/generation_config.json\n"
          ]
        },
        {
          "output_type": "stream",
          "name": "stdout",
          "text": [
            "\u001b[1m11,000 steps reached: saving model to /trained_model\u001b[0m\n"
          ]
        },
        {
          "output_type": "stream",
          "name": "stderr",
          "text": [
            "Configuration saved in trained_model/generation_config.json\n"
          ]
        },
        {
          "output_type": "stream",
          "name": "stdout",
          "text": [
            "\u001b[1m12,000 steps reached: saving model to /trained_model\u001b[0m\n"
          ]
        },
        {
          "output_type": "stream",
          "name": "stderr",
          "text": [
            "Configuration saved in trained_model/generation_config.json\n"
          ]
        },
        {
          "output_type": "stream",
          "name": "stdout",
          "text": [
            "\u001b[1m13,000 steps reached: saving model to /trained_model\u001b[0m\n"
          ]
        }
      ],
      "source": [
        "ai.train('result.txt',\n",
        "         line_by_line=False,\n",
        "         from_cache=False,\n",
        "         num_steps=50000,\n",
        "         generate_every=5000,\n",
        "         save_every=1000,\n",
        "         save_gdrive=True,\n",
        "         learning_rate=1e-4,\n",
        "         fp16=False,\n",
        "         batch_size=1, \n",
        "         )"
      ]
    }
  ],
  "metadata": {
    "accelerator": "GPU",
    "colab": {
      "provenance": [],
      "mount_file_id": "1n86fYpAmYj_-b8Ykul2cn3Gu2k62PoXl",
      "authorship_tag": "ABX9TyNdU3pJXh4nB9xt2uBqbiUZ",
      "include_colab_link": true
    },
    "gpuClass": "premium",
    "kernelspec": {
      "display_name": "Python 3",
      "name": "python3"
    },
    "language_info": {
      "name": "python"
    },
    "widgets": {
      "application/vnd.jupyter.widget-state+json": {
        "bc6c22a1f10046809358f230a5ae1239": {
          "model_module": "@jupyter-widgets/controls",
          "model_name": "HBoxModel",
          "model_module_version": "1.5.0",
          "state": {
            "_dom_classes": [],
            "_model_module": "@jupyter-widgets/controls",
            "_model_module_version": "1.5.0",
            "_model_name": "HBoxModel",
            "_view_count": null,
            "_view_module": "@jupyter-widgets/controls",
            "_view_module_version": "1.5.0",
            "_view_name": "HBoxView",
            "box_style": "",
            "children": [
              "IPY_MODEL_0d7f67f1fbf1409dbdf7ee41fd8444c3",
              "IPY_MODEL_f60580bacde1484fba6dcf9ccd8982a1",
              "IPY_MODEL_e05eed5388e84a1da5c965888c875ef7"
            ],
            "layout": "IPY_MODEL_27fa664acf2647dea5c0c3bff0914195"
          }
        },
        "0d7f67f1fbf1409dbdf7ee41fd8444c3": {
          "model_module": "@jupyter-widgets/controls",
          "model_name": "HTMLModel",
          "model_module_version": "1.5.0",
          "state": {
            "_dom_classes": [],
            "_model_module": "@jupyter-widgets/controls",
            "_model_module_version": "1.5.0",
            "_model_name": "HTMLModel",
            "_view_count": null,
            "_view_module": "@jupyter-widgets/controls",
            "_view_module_version": "1.5.0",
            "_view_name": "HTMLView",
            "description": "",
            "description_tooltip": null,
            "layout": "IPY_MODEL_b1174dc67d844ef286ce09125a7e6b20",
            "placeholder": "​",
            "style": "IPY_MODEL_4992c220838b48c590acc2c2a59a5e1d",
            "value": "100%"
          }
        },
        "f60580bacde1484fba6dcf9ccd8982a1": {
          "model_module": "@jupyter-widgets/controls",
          "model_name": "FloatProgressModel",
          "model_module_version": "1.5.0",
          "state": {
            "_dom_classes": [],
            "_model_module": "@jupyter-widgets/controls",
            "_model_module_version": "1.5.0",
            "_model_name": "FloatProgressModel",
            "_view_count": null,
            "_view_module": "@jupyter-widgets/controls",
            "_view_module_version": "1.5.0",
            "_view_name": "ProgressView",
            "bar_style": "success",
            "description": "",
            "description_tooltip": null,
            "layout": "IPY_MODEL_43cf351976ec4467a692ab03a65433d8",
            "max": 9,
            "min": 0,
            "orientation": "horizontal",
            "style": "IPY_MODEL_57d623576b1a423aabeeddc444dff5e6",
            "value": 9
          }
        },
        "e05eed5388e84a1da5c965888c875ef7": {
          "model_module": "@jupyter-widgets/controls",
          "model_name": "HTMLModel",
          "model_module_version": "1.5.0",
          "state": {
            "_dom_classes": [],
            "_model_module": "@jupyter-widgets/controls",
            "_model_module_version": "1.5.0",
            "_model_name": "HTMLModel",
            "_view_count": null,
            "_view_module": "@jupyter-widgets/controls",
            "_view_module_version": "1.5.0",
            "_view_name": "HTMLView",
            "description": "",
            "description_tooltip": null,
            "layout": "IPY_MODEL_f49f16b1fa25448e92bb0ba2eb6c5724",
            "placeholder": "​",
            "style": "IPY_MODEL_d643e6e88726435dad6c87978416bbda",
            "value": " 9/9 [00:01&lt;00:00,  7.69it/s]"
          }
        },
        "27fa664acf2647dea5c0c3bff0914195": {
          "model_module": "@jupyter-widgets/base",
          "model_name": "LayoutModel",
          "model_module_version": "1.2.0",
          "state": {
            "_model_module": "@jupyter-widgets/base",
            "_model_module_version": "1.2.0",
            "_model_name": "LayoutModel",
            "_view_count": null,
            "_view_module": "@jupyter-widgets/base",
            "_view_module_version": "1.2.0",
            "_view_name": "LayoutView",
            "align_content": null,
            "align_items": null,
            "align_self": null,
            "border": null,
            "bottom": null,
            "display": "inline-flex",
            "flex": null,
            "flex_flow": "row wrap",
            "grid_area": null,
            "grid_auto_columns": null,
            "grid_auto_flow": null,
            "grid_auto_rows": null,
            "grid_column": null,
            "grid_gap": null,
            "grid_row": null,
            "grid_template_areas": null,
            "grid_template_columns": null,
            "grid_template_rows": null,
            "height": null,
            "justify_content": null,
            "justify_items": null,
            "left": null,
            "margin": null,
            "max_height": null,
            "max_width": null,
            "min_height": null,
            "min_width": null,
            "object_fit": null,
            "object_position": null,
            "order": null,
            "overflow": null,
            "overflow_x": null,
            "overflow_y": null,
            "padding": null,
            "right": null,
            "top": null,
            "visibility": null,
            "width": "100%"
          }
        },
        "b1174dc67d844ef286ce09125a7e6b20": {
          "model_module": "@jupyter-widgets/base",
          "model_name": "LayoutModel",
          "model_module_version": "1.2.0",
          "state": {
            "_model_module": "@jupyter-widgets/base",
            "_model_module_version": "1.2.0",
            "_model_name": "LayoutModel",
            "_view_count": null,
            "_view_module": "@jupyter-widgets/base",
            "_view_module_version": "1.2.0",
            "_view_name": "LayoutView",
            "align_content": null,
            "align_items": null,
            "align_self": null,
            "border": null,
            "bottom": null,
            "display": null,
            "flex": null,
            "flex_flow": null,
            "grid_area": null,
            "grid_auto_columns": null,
            "grid_auto_flow": null,
            "grid_auto_rows": null,
            "grid_column": null,
            "grid_gap": null,
            "grid_row": null,
            "grid_template_areas": null,
            "grid_template_columns": null,
            "grid_template_rows": null,
            "height": null,
            "justify_content": null,
            "justify_items": null,
            "left": null,
            "margin": null,
            "max_height": null,
            "max_width": null,
            "min_height": null,
            "min_width": null,
            "object_fit": null,
            "object_position": null,
            "order": null,
            "overflow": null,
            "overflow_x": null,
            "overflow_y": null,
            "padding": null,
            "right": null,
            "top": null,
            "visibility": null,
            "width": null
          }
        },
        "4992c220838b48c590acc2c2a59a5e1d": {
          "model_module": "@jupyter-widgets/controls",
          "model_name": "DescriptionStyleModel",
          "model_module_version": "1.5.0",
          "state": {
            "_model_module": "@jupyter-widgets/controls",
            "_model_module_version": "1.5.0",
            "_model_name": "DescriptionStyleModel",
            "_view_count": null,
            "_view_module": "@jupyter-widgets/base",
            "_view_module_version": "1.2.0",
            "_view_name": "StyleView",
            "description_width": ""
          }
        },
        "43cf351976ec4467a692ab03a65433d8": {
          "model_module": "@jupyter-widgets/base",
          "model_name": "LayoutModel",
          "model_module_version": "1.2.0",
          "state": {
            "_model_module": "@jupyter-widgets/base",
            "_model_module_version": "1.2.0",
            "_model_name": "LayoutModel",
            "_view_count": null,
            "_view_module": "@jupyter-widgets/base",
            "_view_module_version": "1.2.0",
            "_view_name": "LayoutView",
            "align_content": null,
            "align_items": null,
            "align_self": null,
            "border": null,
            "bottom": null,
            "display": null,
            "flex": "2",
            "flex_flow": null,
            "grid_area": null,
            "grid_auto_columns": null,
            "grid_auto_flow": null,
            "grid_auto_rows": null,
            "grid_column": null,
            "grid_gap": null,
            "grid_row": null,
            "grid_template_areas": null,
            "grid_template_columns": null,
            "grid_template_rows": null,
            "height": null,
            "justify_content": null,
            "justify_items": null,
            "left": null,
            "margin": null,
            "max_height": null,
            "max_width": null,
            "min_height": null,
            "min_width": null,
            "object_fit": null,
            "object_position": null,
            "order": null,
            "overflow": null,
            "overflow_x": null,
            "overflow_y": null,
            "padding": null,
            "right": null,
            "top": null,
            "visibility": null,
            "width": null
          }
        },
        "57d623576b1a423aabeeddc444dff5e6": {
          "model_module": "@jupyter-widgets/controls",
          "model_name": "ProgressStyleModel",
          "model_module_version": "1.5.0",
          "state": {
            "_model_module": "@jupyter-widgets/controls",
            "_model_module_version": "1.5.0",
            "_model_name": "ProgressStyleModel",
            "_view_count": null,
            "_view_module": "@jupyter-widgets/base",
            "_view_module_version": "1.2.0",
            "_view_name": "StyleView",
            "bar_color": null,
            "description_width": ""
          }
        },
        "f49f16b1fa25448e92bb0ba2eb6c5724": {
          "model_module": "@jupyter-widgets/base",
          "model_name": "LayoutModel",
          "model_module_version": "1.2.0",
          "state": {
            "_model_module": "@jupyter-widgets/base",
            "_model_module_version": "1.2.0",
            "_model_name": "LayoutModel",
            "_view_count": null,
            "_view_module": "@jupyter-widgets/base",
            "_view_module_version": "1.2.0",
            "_view_name": "LayoutView",
            "align_content": null,
            "align_items": null,
            "align_self": null,
            "border": null,
            "bottom": null,
            "display": null,
            "flex": null,
            "flex_flow": null,
            "grid_area": null,
            "grid_auto_columns": null,
            "grid_auto_flow": null,
            "grid_auto_rows": null,
            "grid_column": null,
            "grid_gap": null,
            "grid_row": null,
            "grid_template_areas": null,
            "grid_template_columns": null,
            "grid_template_rows": null,
            "height": null,
            "justify_content": null,
            "justify_items": null,
            "left": null,
            "margin": null,
            "max_height": null,
            "max_width": null,
            "min_height": null,
            "min_width": null,
            "object_fit": null,
            "object_position": null,
            "order": null,
            "overflow": null,
            "overflow_x": null,
            "overflow_y": null,
            "padding": null,
            "right": null,
            "top": null,
            "visibility": null,
            "width": null
          }
        },
        "d643e6e88726435dad6c87978416bbda": {
          "model_module": "@jupyter-widgets/controls",
          "model_name": "DescriptionStyleModel",
          "model_module_version": "1.5.0",
          "state": {
            "_model_module": "@jupyter-widgets/controls",
            "_model_module_version": "1.5.0",
            "_model_name": "DescriptionStyleModel",
            "_view_count": null,
            "_view_module": "@jupyter-widgets/base",
            "_view_module_version": "1.2.0",
            "_view_name": "StyleView",
            "description_width": ""
          }
        },
        "6b4a6acf38d0472293a508a002267443": {
          "model_module": "@jupyter-widgets/controls",
          "model_name": "HBoxModel",
          "model_module_version": "1.5.0",
          "state": {
            "_dom_classes": [],
            "_model_module": "@jupyter-widgets/controls",
            "_model_module_version": "1.5.0",
            "_model_name": "HBoxModel",
            "_view_count": null,
            "_view_module": "@jupyter-widgets/controls",
            "_view_module_version": "1.5.0",
            "_view_name": "HBoxView",
            "box_style": "",
            "children": [
              "IPY_MODEL_66e6eea00d65418b8d760b152e1ab588",
              "IPY_MODEL_085acedea4b34f1392d74c1cfc5d9720",
              "IPY_MODEL_3e5350d0c462470595315098a26155fb"
            ],
            "layout": "IPY_MODEL_ebc5303a452f4ff685bd0664f0dd4628"
          }
        },
        "66e6eea00d65418b8d760b152e1ab588": {
          "model_module": "@jupyter-widgets/controls",
          "model_name": "HTMLModel",
          "model_module_version": "1.5.0",
          "state": {
            "_dom_classes": [],
            "_model_module": "@jupyter-widgets/controls",
            "_model_module_version": "1.5.0",
            "_model_name": "HTMLModel",
            "_view_count": null,
            "_view_module": "@jupyter-widgets/controls",
            "_view_module_version": "1.5.0",
            "_view_name": "HTMLView",
            "description": "",
            "description_tooltip": null,
            "layout": "IPY_MODEL_dc7e4c0f46e74315a3b8440d27ebb5d0",
            "placeholder": "​",
            "style": "IPY_MODEL_7548e7103a934ed4a462ded1d24a29be",
            "value": "Loss: 0.007 — Avg: 0.006 — GPU Mem: 12441 MB:  27%"
          }
        },
        "085acedea4b34f1392d74c1cfc5d9720": {
          "model_module": "@jupyter-widgets/controls",
          "model_name": "FloatProgressModel",
          "model_module_version": "1.5.0",
          "state": {
            "_dom_classes": [],
            "_model_module": "@jupyter-widgets/controls",
            "_model_module_version": "1.5.0",
            "_model_name": "FloatProgressModel",
            "_view_count": null,
            "_view_module": "@jupyter-widgets/controls",
            "_view_module_version": "1.5.0",
            "_view_name": "ProgressView",
            "bar_style": "",
            "description": "",
            "description_tooltip": null,
            "layout": "IPY_MODEL_fd6ded5686dd4537b7e2e15ce0e508f1",
            "max": 50000,
            "min": 0,
            "orientation": "horizontal",
            "style": "IPY_MODEL_6d03bbf997c8497196737ebefdf7d56c",
            "value": 13460
          }
        },
        "3e5350d0c462470595315098a26155fb": {
          "model_module": "@jupyter-widgets/controls",
          "model_name": "HTMLModel",
          "model_module_version": "1.5.0",
          "state": {
            "_dom_classes": [],
            "_model_module": "@jupyter-widgets/controls",
            "_model_module_version": "1.5.0",
            "_model_name": "HTMLModel",
            "_view_count": null,
            "_view_module": "@jupyter-widgets/controls",
            "_view_module_version": "1.5.0",
            "_view_name": "HTMLView",
            "description": "",
            "description_tooltip": null,
            "layout": "IPY_MODEL_e1b4f8093b044d4683c28b6b961e7cfd",
            "placeholder": "​",
            "style": "IPY_MODEL_b1608a4fe4094efd8f9a149e8578d291",
            "value": " 13460/50000 [3:12:49&lt;8:43:27,  1.16it/s]"
          }
        },
        "ebc5303a452f4ff685bd0664f0dd4628": {
          "model_module": "@jupyter-widgets/base",
          "model_name": "LayoutModel",
          "model_module_version": "1.2.0",
          "state": {
            "_model_module": "@jupyter-widgets/base",
            "_model_module_version": "1.2.0",
            "_model_name": "LayoutModel",
            "_view_count": null,
            "_view_module": "@jupyter-widgets/base",
            "_view_module_version": "1.2.0",
            "_view_name": "LayoutView",
            "align_content": null,
            "align_items": null,
            "align_self": null,
            "border": null,
            "bottom": null,
            "display": "inline-flex",
            "flex": null,
            "flex_flow": "row wrap",
            "grid_area": null,
            "grid_auto_columns": null,
            "grid_auto_flow": null,
            "grid_auto_rows": null,
            "grid_column": null,
            "grid_gap": null,
            "grid_row": null,
            "grid_template_areas": null,
            "grid_template_columns": null,
            "grid_template_rows": null,
            "height": null,
            "justify_content": null,
            "justify_items": null,
            "left": null,
            "margin": null,
            "max_height": null,
            "max_width": null,
            "min_height": null,
            "min_width": null,
            "object_fit": null,
            "object_position": null,
            "order": null,
            "overflow": null,
            "overflow_x": null,
            "overflow_y": null,
            "padding": null,
            "right": null,
            "top": null,
            "visibility": null,
            "width": "100%"
          }
        },
        "dc7e4c0f46e74315a3b8440d27ebb5d0": {
          "model_module": "@jupyter-widgets/base",
          "model_name": "LayoutModel",
          "model_module_version": "1.2.0",
          "state": {
            "_model_module": "@jupyter-widgets/base",
            "_model_module_version": "1.2.0",
            "_model_name": "LayoutModel",
            "_view_count": null,
            "_view_module": "@jupyter-widgets/base",
            "_view_module_version": "1.2.0",
            "_view_name": "LayoutView",
            "align_content": null,
            "align_items": null,
            "align_self": null,
            "border": null,
            "bottom": null,
            "display": null,
            "flex": null,
            "flex_flow": null,
            "grid_area": null,
            "grid_auto_columns": null,
            "grid_auto_flow": null,
            "grid_auto_rows": null,
            "grid_column": null,
            "grid_gap": null,
            "grid_row": null,
            "grid_template_areas": null,
            "grid_template_columns": null,
            "grid_template_rows": null,
            "height": null,
            "justify_content": null,
            "justify_items": null,
            "left": null,
            "margin": null,
            "max_height": null,
            "max_width": null,
            "min_height": null,
            "min_width": null,
            "object_fit": null,
            "object_position": null,
            "order": null,
            "overflow": null,
            "overflow_x": null,
            "overflow_y": null,
            "padding": null,
            "right": null,
            "top": null,
            "visibility": null,
            "width": null
          }
        },
        "7548e7103a934ed4a462ded1d24a29be": {
          "model_module": "@jupyter-widgets/controls",
          "model_name": "DescriptionStyleModel",
          "model_module_version": "1.5.0",
          "state": {
            "_model_module": "@jupyter-widgets/controls",
            "_model_module_version": "1.5.0",
            "_model_name": "DescriptionStyleModel",
            "_view_count": null,
            "_view_module": "@jupyter-widgets/base",
            "_view_module_version": "1.2.0",
            "_view_name": "StyleView",
            "description_width": ""
          }
        },
        "fd6ded5686dd4537b7e2e15ce0e508f1": {
          "model_module": "@jupyter-widgets/base",
          "model_name": "LayoutModel",
          "model_module_version": "1.2.0",
          "state": {
            "_model_module": "@jupyter-widgets/base",
            "_model_module_version": "1.2.0",
            "_model_name": "LayoutModel",
            "_view_count": null,
            "_view_module": "@jupyter-widgets/base",
            "_view_module_version": "1.2.0",
            "_view_name": "LayoutView",
            "align_content": null,
            "align_items": null,
            "align_self": null,
            "border": null,
            "bottom": null,
            "display": null,
            "flex": "2",
            "flex_flow": null,
            "grid_area": null,
            "grid_auto_columns": null,
            "grid_auto_flow": null,
            "grid_auto_rows": null,
            "grid_column": null,
            "grid_gap": null,
            "grid_row": null,
            "grid_template_areas": null,
            "grid_template_columns": null,
            "grid_template_rows": null,
            "height": null,
            "justify_content": null,
            "justify_items": null,
            "left": null,
            "margin": null,
            "max_height": null,
            "max_width": null,
            "min_height": null,
            "min_width": null,
            "object_fit": null,
            "object_position": null,
            "order": null,
            "overflow": null,
            "overflow_x": null,
            "overflow_y": null,
            "padding": null,
            "right": null,
            "top": null,
            "visibility": null,
            "width": null
          }
        },
        "6d03bbf997c8497196737ebefdf7d56c": {
          "model_module": "@jupyter-widgets/controls",
          "model_name": "ProgressStyleModel",
          "model_module_version": "1.5.0",
          "state": {
            "_model_module": "@jupyter-widgets/controls",
            "_model_module_version": "1.5.0",
            "_model_name": "ProgressStyleModel",
            "_view_count": null,
            "_view_module": "@jupyter-widgets/base",
            "_view_module_version": "1.2.0",
            "_view_name": "StyleView",
            "bar_color": null,
            "description_width": ""
          }
        },
        "e1b4f8093b044d4683c28b6b961e7cfd": {
          "model_module": "@jupyter-widgets/base",
          "model_name": "LayoutModel",
          "model_module_version": "1.2.0",
          "state": {
            "_model_module": "@jupyter-widgets/base",
            "_model_module_version": "1.2.0",
            "_model_name": "LayoutModel",
            "_view_count": null,
            "_view_module": "@jupyter-widgets/base",
            "_view_module_version": "1.2.0",
            "_view_name": "LayoutView",
            "align_content": null,
            "align_items": null,
            "align_self": null,
            "border": null,
            "bottom": null,
            "display": null,
            "flex": null,
            "flex_flow": null,
            "grid_area": null,
            "grid_auto_columns": null,
            "grid_auto_flow": null,
            "grid_auto_rows": null,
            "grid_column": null,
            "grid_gap": null,
            "grid_row": null,
            "grid_template_areas": null,
            "grid_template_columns": null,
            "grid_template_rows": null,
            "height": null,
            "justify_content": null,
            "justify_items": null,
            "left": null,
            "margin": null,
            "max_height": null,
            "max_width": null,
            "min_height": null,
            "min_width": null,
            "object_fit": null,
            "object_position": null,
            "order": null,
            "overflow": null,
            "overflow_x": null,
            "overflow_y": null,
            "padding": null,
            "right": null,
            "top": null,
            "visibility": null,
            "width": null
          }
        },
        "b1608a4fe4094efd8f9a149e8578d291": {
          "model_module": "@jupyter-widgets/controls",
          "model_name": "DescriptionStyleModel",
          "model_module_version": "1.5.0",
          "state": {
            "_model_module": "@jupyter-widgets/controls",
            "_model_module_version": "1.5.0",
            "_model_name": "DescriptionStyleModel",
            "_view_count": null,
            "_view_module": "@jupyter-widgets/base",
            "_view_module_version": "1.2.0",
            "_view_name": "StyleView",
            "description_width": ""
          }
        }
      }
    }
  },
  "nbformat": 4,
  "nbformat_minor": 0
}